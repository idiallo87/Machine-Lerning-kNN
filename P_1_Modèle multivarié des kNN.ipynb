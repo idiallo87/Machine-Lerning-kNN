{
 "cells": [
  {
   "cell_type": "markdown",
   "id": "67228a2a",
   "metadata": {},
   "source": [
    "# Modèle multivarié des K plus proches voisins\n",
    "\n",
    "## Récapitulatif\n",
    "\n",
    "+ Utiliser la méthode DataFrame.info() pour retourner le nombre de valeurs non nulles de chaque colonne."
   ]
  },
  {
   "cell_type": "code",
   "execution_count": 4,
   "id": "ec490672",
   "metadata": {},
   "outputs": [],
   "source": [
    "import pandas as pd\n",
    "import numpy as np\n",
    "np.random.seed(1)\n",
    "import warnings\n",
    "warnings.filterwarnings('ignore')\n",
    "\n",
    "paris_listings = pd.read_csv('paris_airbnb.csv')\n",
    "paris_listings = paris_listings.loc[np.random.permutation(len(paris_listings))]\n",
    "stripped_commas = paris_listings['price'].str.replace(',', '')\n",
    "stripped_dollars = stripped_commas.str.replace('$', '')\n",
    "paris_listings['price'] = stripped_dollars.astype('float')"
   ]
  },
  {
   "cell_type": "code",
   "execution_count": 5,
   "id": "b91df4e5",
   "metadata": {},
   "outputs": [
    {
     "name": "stdout",
     "output_type": "stream",
     "text": [
      "<class 'pandas.core.frame.DataFrame'>\n",
      "Int64Index: 8000 entries, 4740 to 5157\n",
      "Data columns (total 19 columns):\n",
      " #   Column                Non-Null Count  Dtype  \n",
      "---  ------                --------------  -----  \n",
      " 0   host_response_rate    5000 non-null   object \n",
      " 1   host_acceptance_rate  0 non-null      float64\n",
      " 2   host_listings_count   7999 non-null   float64\n",
      " 3   latitude              8000 non-null   float64\n",
      " 4   longitude             8000 non-null   float64\n",
      " 5   city                  7997 non-null   object \n",
      " 6   zipcode               7930 non-null   object \n",
      " 7   state                 7977 non-null   object \n",
      " 8   accommodates          8000 non-null   int64  \n",
      " 9   room_type             8000 non-null   object \n",
      " 10  bedrooms              7976 non-null   float64\n",
      " 11  bathrooms             7942 non-null   float64\n",
      " 12  beds                  7986 non-null   float64\n",
      " 13  price                 8000 non-null   float64\n",
      " 14  cleaning_fee          6250 non-null   object \n",
      " 15  security_deposit      6320 non-null   object \n",
      " 16  minimum_nights        8000 non-null   int64  \n",
      " 17  maximum_nights        8000 non-null   int64  \n",
      " 18  number_of_reviews     8000 non-null   int64  \n",
      "dtypes: float64(8), int64(4), object(7)\n",
      "memory usage: 1.2+ MB\n"
     ]
    }
   ],
   "source": [
    "paris_listings.info()"
   ]
  },
  {
   "cell_type": "markdown",
   "id": "38f203d0",
   "metadata": {},
   "source": [
    "## Supprimer des caractéristiques\n",
    "\n",
    "+ Supprimer les 9 colonnes que nous venons de citer du DataFrame paris_listings:\n",
    " - 3 contenant des valeurs non numériques (room_type, city et state)\n",
    " - 3 contenant des valeurs numériques mais non ordinales (longitude, latitude et zipcode)\n",
    " - 3 décrivant l'hôte plutôt que le logement (host_)\n",
    "+ Afficher la somme des valeurs manquantes du DataFrame résultant."
   ]
  },
  {
   "cell_type": "code",
   "execution_count": 6,
   "id": "4eb544e8",
   "metadata": {},
   "outputs": [
    {
     "data": {
      "text/plain": [
       "host_response_rate      3000\n",
       "host_acceptance_rate    8000\n",
       "host_listings_count        1\n",
       "latitude                   0\n",
       "longitude                  0\n",
       "city                       3\n",
       "zipcode                   70\n",
       "state                     23\n",
       "accommodates               0\n",
       "room_type                  0\n",
       "bedrooms                  24\n",
       "bathrooms                 58\n",
       "beds                      14\n",
       "price                      0\n",
       "cleaning_fee            1750\n",
       "security_deposit        1680\n",
       "minimum_nights             0\n",
       "maximum_nights             0\n",
       "number_of_reviews          0\n",
       "dtype: int64"
      ]
     },
     "execution_count": 6,
     "metadata": {},
     "output_type": "execute_result"
    }
   ],
   "source": [
    "paris_listings.isna().sum()"
   ]
  },
  {
   "cell_type": "code",
   "execution_count": 7,
   "id": "0049ecc5",
   "metadata": {},
   "outputs": [
    {
     "name": "stdout",
     "output_type": "stream",
     "text": [
      "accommodates            0\n",
      "bedrooms               24\n",
      "bathrooms              58\n",
      "beds                   14\n",
      "price                   0\n",
      "cleaning_fee         1750\n",
      "security_deposit     1680\n",
      "minimum_nights          0\n",
      "maximum_nights          0\n",
      "number_of_reviews       0\n",
      "dtype: int64\n"
     ]
    }
   ],
   "source": [
    "drop_columns = ['room_type', 'city', 'state', 'longitude', 'latitude', 'zipcode', 'host_response_rate', 'host_acceptance_rate', 'host_listings_count']\n",
    "paris_listings = paris_listings.drop(drop_columns, axis=1)\n",
    "print(paris_listings.isna().sum())"
   ]
  },
  {
   "cell_type": "markdown",
   "id": "effd777c",
   "metadata": {},
   "source": [
    "## Gérer les valeurs manquantes\n",
    "\n",
    "+ Supprimer les colonnes cleaning_fee et security_deposit du DataFrame paris_listings.\n",
    "+ Ensuite, supprimer toutes les lignes contenant une valeur manquante dans les colonnes 'bedrooms', 'bathrooms' et 'beds' du dataframe paris_listings.\n",
    " - Vous pouvez accomplir cela en utilisant la méthode dropna() en fixant le paramètre axis à 0.\n",
    " - Etant donné que seules les colonnes bedrooms, bathrooms, et beds contiennent des valeurs manquantes, les lignes contenant ces valeurs manquantes dans ces colonnes seront supprimées.\n",
    "+ Afficher le nombre de valeurs nulles pour le nouveau DataFrame nouvellement mis à jour pour confirmer qu'il n'y a plus aucune valeur manquante.\n"
   ]
  },
  {
   "cell_type": "code",
   "execution_count": 8,
   "id": "48cc821e",
   "metadata": {},
   "outputs": [
    {
     "name": "stdout",
     "output_type": "stream",
     "text": [
      "accommodates         0\n",
      "bedrooms             0\n",
      "bathrooms            0\n",
      "beds                 0\n",
      "price                0\n",
      "minimum_nights       0\n",
      "maximum_nights       0\n",
      "number_of_reviews    0\n",
      "dtype: int64\n"
     ]
    }
   ],
   "source": [
    "paris_listings = paris_listings.drop(['cleaning_fee', 'security_deposit'], axis=1)\n",
    "paris_listings = paris_listings.dropna(axis=0)\n",
    "print(paris_listings.isnull().sum())"
   ]
  },
  {
   "cell_type": "markdown",
   "id": "d6043b6f",
   "metadata": {},
   "source": [
    "## Normaliser les colonnes\n",
    "\n",
    "+ Normaliser toutes les colonnes restantes de paris_listings et assigner le nouveau DataFrame contenant juste les colonnes normalisées à la variable normalized_listings.\n",
    "+ Ajouter la colonne 'price' de paris_listings à normalized_listings.\n",
    "+ Afficher les 3 premières valeurs de normalized_listings.\n"
   ]
  },
  {
   "cell_type": "code",
   "execution_count": 11,
   "id": "794ec92e",
   "metadata": {},
   "outputs": [
    {
     "data": {
      "text/html": [
       "<div>\n",
       "<style scoped>\n",
       "    .dataframe tbody tr th:only-of-type {\n",
       "        vertical-align: middle;\n",
       "    }\n",
       "\n",
       "    .dataframe tbody tr th {\n",
       "        vertical-align: top;\n",
       "    }\n",
       "\n",
       "    .dataframe thead th {\n",
       "        text-align: right;\n",
       "    }\n",
       "</style>\n",
       "<table border=\"1\" class=\"dataframe\">\n",
       "  <thead>\n",
       "    <tr style=\"text-align: right;\">\n",
       "      <th></th>\n",
       "      <th>accommodates</th>\n",
       "      <th>bedrooms</th>\n",
       "      <th>bathrooms</th>\n",
       "      <th>beds</th>\n",
       "      <th>price</th>\n",
       "      <th>minimum_nights</th>\n",
       "      <th>maximum_nights</th>\n",
       "      <th>number_of_reviews</th>\n",
       "    </tr>\n",
       "  </thead>\n",
       "  <tbody>\n",
       "    <tr>\n",
       "      <th>4740</th>\n",
       "      <td>0.503868</td>\n",
       "      <td>-0.296884</td>\n",
       "      <td>-0.293537</td>\n",
       "      <td>0.20531</td>\n",
       "      <td>65.0</td>\n",
       "      <td>-0.184601</td>\n",
       "      <td>1.062858</td>\n",
       "      <td>-0.564545</td>\n",
       "    </tr>\n",
       "    <tr>\n",
       "      <th>5606</th>\n",
       "      <td>-0.131849</td>\n",
       "      <td>0.892605</td>\n",
       "      <td>0.843973</td>\n",
       "      <td>0.20531</td>\n",
       "      <td>98.0</td>\n",
       "      <td>-0.101183</td>\n",
       "      <td>1.061018</td>\n",
       "      <td>-0.636924</td>\n",
       "    </tr>\n",
       "    <tr>\n",
       "      <th>4824</th>\n",
       "      <td>-0.767566</td>\n",
       "      <td>-1.486372</td>\n",
       "      <td>-0.293537</td>\n",
       "      <td>-0.64526</td>\n",
       "      <td>65.0</td>\n",
       "      <td>0.037847</td>\n",
       "      <td>1.062858</td>\n",
       "      <td>-0.651400</td>\n",
       "    </tr>\n",
       "  </tbody>\n",
       "</table>\n",
       "</div>"
      ],
      "text/plain": [
       "      accommodates  bedrooms  bathrooms     beds  price  minimum_nights  \\\n",
       "4740      0.503868 -0.296884  -0.293537  0.20531   65.0       -0.184601   \n",
       "5606     -0.131849  0.892605   0.843973  0.20531   98.0       -0.101183   \n",
       "4824     -0.767566 -1.486372  -0.293537 -0.64526   65.0        0.037847   \n",
       "\n",
       "      maximum_nights  number_of_reviews  \n",
       "4740        1.062858          -0.564545  \n",
       "5606        1.061018          -0.636924  \n",
       "4824        1.062858          -0.651400  "
      ]
     },
     "execution_count": 11,
     "metadata": {},
     "output_type": "execute_result"
    }
   ],
   "source": [
    "normalized_listings = (paris_listings - paris_listings.mean())/(paris_listings.std())\n",
    "normalized_listings['price'] = paris_listings['price']\n",
    "normalized_listings.head(3)"
   ]
  },
  {
   "cell_type": "markdown",
   "id": "02d5710d",
   "metadata": {},
   "source": [
    "## Distance euclidienne pour le cas multivarié\n",
    "\n",
    "+ Calculer la distance Euclidienne en utilisant seulement les caractéristiques accommodates et bedrooms entre la première ligne et la 5e ligne de normalized_listings en utilisant la fonction distance.euclidean().\n",
    "+ Assigner la valeur de distance à la variable first_fifth_distance et afficher le résultat.\n"
   ]
  },
  {
   "cell_type": "code",
   "execution_count": 12,
   "id": "bfa5d1aa",
   "metadata": {},
   "outputs": [
    {
     "name": "stdout",
     "output_type": "stream",
     "text": [
      "0.6357172321498359\n"
     ]
    }
   ],
   "source": [
    "from scipy.spatial import distance\n",
    "first_listing = normalized_listings.iloc[0][['accommodates', 'bedrooms']]\n",
    "fifth_listing = normalized_listings.iloc[4][['accommodates', 'bedrooms']]\n",
    "first_fifth_distance = distance.euclidean(first_listing, fifth_listing)\n",
    "\n",
    "print(first_fifth_distance)"
   ]
  },
  {
   "cell_type": "markdown",
   "id": "58f2be4a",
   "metadata": {},
   "source": [
    "## Adapter un modèle et faire des prédictions\n",
    "\n",
    "+ Créer une instance de la classe **KNeighborsRegressor** avec les paramètres suivants:\n",
    " - n_neighbors: 5\n",
    " - algorithm: brute\n",
    "+ Utiliser la méthode **fit** pour spécifier les données que nous voulons utiliser pour notre modèle des k plus proches voisins. Utiliser les paramètres suivants:\n",
    " - Les données d'entrainement, les colonnes de caractéristiques: seulement les colonnes 'accommodates' et 'bedrooms', dans cet ordre, depuis le DataFrame train_df.\n",
    " - La colonne cible: la colonne 'price' du DataFrame train_df.\n",
    "+ Appeler la méthode **predict** pour faire des prédictions dessus:\n",
    " - Les colonnes 'accommodates' et 'bedrooms' du DataFrame test_df\n",
    " - Assigner le tableau Numpy résultant des valeurs de prix prédits à la variable predictions.\n"
   ]
  },
  {
   "cell_type": "code",
   "execution_count": 15,
   "id": "6283f551",
   "metadata": {},
   "outputs": [
    {
     "data": {
      "text/plain": [
       "array([ 72. ,  78.2,  78.2, ...,  72. , 148.4,  78.2])"
      ]
     },
     "execution_count": 15,
     "metadata": {},
     "output_type": "execute_result"
    }
   ],
   "source": [
    "from sklearn.neighbors import KNeighborsRegressor\n",
    "\n",
    "train_df = normalized_listings.iloc[0:6000]\n",
    "test_df = normalized_listings.iloc[6000:]\n",
    "train_columns = ['accommodates', 'bedrooms']\n",
    "\n",
    "# instancier le modèle de ML\n",
    "knn = KNeighborsRegressor(n_neighbors=5, algorithm='brute')\n",
    "\n",
    "# adapter le modèle aux données\n",
    "knn.fit(train_df[train_columns], train_df['price'])\n",
    "\n",
    "# utiliser le modèle pour faire des prédictions\n",
    "predictions = knn.predict(test_df[train_columns])\n",
    "\n",
    "predictions"
   ]
  },
  {
   "cell_type": "markdown",
   "id": "c5902886",
   "metadata": {},
   "source": [
    "## Calculer l'erreur quadratique moyenne\n",
    "\n",
    "+ Utiliser la fonction mean_squared_error pour calculer la valeur d'erreur quadratique moyenne MSE pour les prédictions que nous avons faites.\n",
    "+ Assigner la valeur de MSE à la variable two_features_mse.\n",
    "+ Calculer la valeur de la racine carrée de l'erreur quadratique moyenne RMSE en prenant la racine carrée de la valeur MSE et assigner le résultat à la variable two_features_rmse.\n",
    "+ Afficher ces 2 résultats d'erreur.\n"
   ]
  },
  {
   "cell_type": "code",
   "execution_count": 16,
   "id": "bde79d7d",
   "metadata": {},
   "outputs": [
    {
     "name": "stdout",
     "output_type": "stream",
     "text": [
      "5894.320834637454\n",
      "76.77448036058242\n"
     ]
    }
   ],
   "source": [
    "from sklearn.metrics import mean_squared_error\n",
    "\n",
    "two_features_mse = mean_squared_error(test_df['price'], predictions)\n",
    "two_features_rmse = two_features_mse**(1/2)\n",
    "\n",
    "print(two_features_mse)\n",
    "print(two_features_rmse)"
   ]
  },
  {
   "cell_type": "markdown",
   "id": "878c0843",
   "metadata": {},
   "source": [
    "## Utiliser plus de caractéristiques\n",
    "\n",
    "+ Créer une nouvelle instance de la classe KNeighborsRegressor avec les paramètres suivants:\n",
    "+ Adapter le modèle pour qu'il utilise les colonnes suivantes de notre set d'entrainement (train_df):\n",
    " - accommodates\n",
    " - bedrooms\n",
    " - bathrooms\n",
    " - number_of_reviews\n",
    "+ Utiliser le modèle pour faire des prédictions sur le set de test (test_df) en utilisant les mêmes colonnes. Assigner le tableau Numpy des prédictions à la variable four_predictions.\n",
    "+ Utiliser la fonction mean_squared_error() pour calculer la valeur MSE pour ces prédictions en comparant les valeurs de four_predictions avec la colonne price du DataFrame test_df. Assigner la valeur MSE calculée à la variable four_mse.\n",
    "+ Calculer la valeur RMSE et assigner le résultat à la variable four_rmse.\n",
    "+ Afficher les résultats four_mse et four_rmse.\n"
   ]
  },
  {
   "cell_type": "code",
   "execution_count": 17,
   "id": "5aa3678a",
   "metadata": {},
   "outputs": [
    {
     "name": "stdout",
     "output_type": "stream",
     "text": [
      "5424.405821596245\n",
      "73.65056565700121\n"
     ]
    }
   ],
   "source": [
    "features = ['accommodates', 'bedrooms', 'bathrooms', 'number_of_reviews']\n",
    "from sklearn.neighbors import KNeighborsRegressor\n",
    "knn = KNeighborsRegressor(n_neighbors=5, algorithm='brute')\n",
    "knn.fit(train_df[features], train_df['price'])\n",
    "four_predictions = knn.predict(test_df[features])\n",
    "four_mse = mean_squared_error(test_df['price'], four_predictions)\n",
    "four_rmse = four_mse**(1/2)\n",
    "\n",
    "print(four_mse)\n",
    "print(four_rmse)"
   ]
  },
  {
   "cell_type": "markdown",
   "id": "a83513ee",
   "metadata": {},
   "source": [
    "## Utiliser toutes les caractéristiques\n",
    "\n",
    "+ Utiliser toutes les colonnes, à l'exception de la colonne 'price', pour entrainer notre modèle des k plus proches voisins en utilisant les mêmes paramètres pour la classe KNeighborsRegressor que les précédentes vidéos.\n",
    "+ Utiliser le modèle pour faire les prédictions sur le set de test et assigner le tableau Numpy résultant des prédictions à la variable all_features_predictions.\n",
    "+ Calculer les valeurs MSE et RMSE et assigner les résultats aux variables all_features_mse et all_features_rmse.\n",
    "+ Afficher les scores d'erreurs.\n"
   ]
  },
  {
   "cell_type": "code",
   "execution_count": 18,
   "id": "b06781ed",
   "metadata": {},
   "outputs": [
    {
     "name": "stdout",
     "output_type": "stream",
     "text": [
      "7227.205279081899\n",
      "85.01297124016958\n"
     ]
    }
   ],
   "source": [
    "knn = KNeighborsRegressor(n_neighbors=5, algorithm='brute')\n",
    "\n",
    "features = train_df.columns.tolist()\n",
    "features.remove('price')\n",
    "\n",
    "knn.fit(train_df[features], train_df['price'])\n",
    "all_features_predictions = knn.predict(test_df[features])\n",
    "\n",
    "all_features_mse = mean_squared_error(test_df['price'], all_features_predictions)\n",
    "all_features_rmse = all_features_mse**(1/2)\n",
    "\n",
    "print(all_features_mse)\n",
    "print(all_features_rmse)"
   ]
  },
  {
   "cell_type": "code",
   "execution_count": null,
   "id": "d4d6bfb1",
   "metadata": {},
   "outputs": [],
   "source": []
  }
 ],
 "metadata": {
  "kernelspec": {
   "display_name": "Python 3 (ipykernel)",
   "language": "python",
   "name": "python3"
  },
  "language_info": {
   "codemirror_mode": {
    "name": "ipython",
    "version": 3
   },
   "file_extension": ".py",
   "mimetype": "text/x-python",
   "name": "python",
   "nbconvert_exporter": "python",
   "pygments_lexer": "ipython3",
   "version": "3.8.15"
  }
 },
 "nbformat": 4,
 "nbformat_minor": 5
}
