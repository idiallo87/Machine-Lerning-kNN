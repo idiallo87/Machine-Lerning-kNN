{
 "cells": [
  {
   "cell_type": "markdown",
   "id": "2c909629",
   "metadata": {},
   "source": [
    "# Evaluer la performance du modèle\n",
    "\n",
    "## Tester la qualité des prédictions\n",
    "\n",
    "+ Séparer le dataframe en 2: \n",
    " - train_df contenant 6000 lignes de paris_listings\n",
    " - test_df contenant le reste\n",
    "+ Modifier la fonction predict_price, changer le DataFrame temp_df. Changer le DataFrame paris_listings à train_df, pour que seul le dataset de training soit utilisé.\n",
    "+ Utiliser la méthode Series apply pour appliquer la fonction predict_price  sur les valeurs de la colonne 'accommodates' du DataFrame test_df.\n",
    "+ Assigner l'objet Series résultant à la colonne 'predicted_price' de test_df.\n"
   ]
  },
  {
   "cell_type": "code",
   "execution_count": 2,
   "id": "58ad4be1",
   "metadata": {},
   "outputs": [
    {
     "name": "stderr",
     "output_type": "stream",
     "text": [
      "/var/folders/w7/6rt7vbvd7bqbx0q2zdmnfvm40000gn/T/ipykernel_27364/3800831289.py:9: FutureWarning: The default value of regex will change from True to False in a future version. In addition, single character regular expressions will *not* be treated as literal strings when regex=True.\n",
      "  stripped_dollars = stripped_commas.str.replace('$', '')\n"
     ]
    }
   ],
   "source": [
    "import pandas as pd\n",
    "import numpy as np\n",
    "pd.options.mode.chained_assignment = None\n",
    "np.random.seed(1)\n",
    "\n",
    "paris_listings = pd.read_csv(\"paris_airbnb.csv\")\n",
    "paris_listings = paris_listings.loc[np.random.permutation(len(paris_listings))]\n",
    "stripped_commas = paris_listings['price'].str.replace(',', '')\n",
    "stripped_dollars = stripped_commas.str.replace('$', '')\n",
    "paris_listings['price'] = stripped_dollars.astype('float')\n",
    "\n",
    "\n",
    "train_df = paris_listings.iloc[0:6000]\n",
    "test_df = paris_listings.iloc[6000:]\n",
    "\n",
    "def predict_price(new_listing):\n",
    "    temp_df = paris_listings.copy()\n",
    "    temp_df[\"distance\"] = temp_df[\"accommodates\"].apply(lambda x: np.abs(x - new_listing))\n",
    "    temp_df = temp_df.sort_values(\"distance\")\n",
    "    return temp_df['price'].iloc[0:5].mean()\n",
    "\n",
    "test_df['predicted_price'] = test_df['accommodates'].apply(lambda x: predict_price(x))"
   ]
  },
  {
   "cell_type": "markdown",
   "id": "4a282369",
   "metadata": {},
   "source": [
    "## Les métriques d'erreur\n",
    "\n",
    "+ Utiliser la méthode numpy.absolute() pour calculer l'erreur absolue moyenne MAE entre predicted_price et price.\n",
    "+ Assigner le résultat à la variable mae.\n"
   ]
  },
  {
   "cell_type": "code",
   "execution_count": 5,
   "id": "687c8a56",
   "metadata": {},
   "outputs": [
    {
     "name": "stdout",
     "output_type": "stream",
     "text": [
      "49.090099999999744\n"
     ]
    }
   ],
   "source": [
    "import numpy as np\n",
    "\n",
    "test_df['error'] = np.absolute(test_df['predicted_price'] - test_df['price'])\n",
    "mae = test_df['error'].mean()\n",
    "print(mae)"
   ]
  },
  {
   "cell_type": "markdown",
   "id": "b5cf8963",
   "metadata": {},
   "source": [
    "## Erreur quadratique moyenne\n",
    "\n",
    "+ Calculer la valeur de MSE entre les colonnes 'predicted_price' et 'price'.\n",
    "+ Assigner le résultat à la variable mse.\n",
    "+ Afficher le résultat.\n"
   ]
  },
  {
   "cell_type": "code",
   "execution_count": 6,
   "id": "470c4941",
   "metadata": {},
   "outputs": [
    {
     "data": {
      "text/plain": [
       "6762.121780000079"
      ]
     },
     "execution_count": 6,
     "metadata": {},
     "output_type": "execute_result"
    }
   ],
   "source": [
    "mse = ((test_df['predicted_price'] - test_df['price'])**2).mean()\n",
    "mse"
   ]
  },
  {
   "cell_type": "markdown",
   "id": "7185d4f8",
   "metadata": {},
   "source": [
    "## Entrainer un autre modèle\n",
    "\n",
    "+ Modifier la fonction suivante predict_price en utilisant la colonne 'bedrooms' à la place de la colonne 'accommodates' pour faire nos prédictions.\n",
    "+ Appliquer la fonction au dataframe test_df et assigner l'objet Series résultant contenant les valeurs des prix prédits à la colonne 'predicted_price' de test_df.\n",
    "+ Calculer l'erreur au carré entre les colonnes 'price' et 'predicted_price' de test_df et assigner l'objet Series résultant à la colonne 'squared_error' de test_df.\n",
    "+ Calculer la moyenne de la colonne 'squared_error' de test_df et assigner à la variable mse.\n",
    "+ Afficher la valeur de MSE.\n"
   ]
  },
  {
   "cell_type": "code",
   "execution_count": 7,
   "id": "cc95cfc2",
   "metadata": {},
   "outputs": [
    {
     "name": "stdout",
     "output_type": "stream",
     "text": [
      "6281.181980000002\n"
     ]
    }
   ],
   "source": [
    "train_df = paris_listings.iloc[0:6000]\n",
    "test_df = paris_listings.iloc[6000:]\n",
    "\n",
    "def predict_price(new_listing):\n",
    "    temp_df = train_df.copy()\n",
    "    temp_df['distance'] = temp_df['bedrooms'].apply(lambda x: np.abs(x - new_listing))\n",
    "    temp_df = temp_df.sort_values('distance')\n",
    "    nearest_neighbors_prices = temp_df.iloc[0:5]['price']\n",
    "    predicted_price = nearest_neighbors_prices.mean()\n",
    "    return(predicted_price)\n",
    "\n",
    "test_df['predicted_price'] = test_df['bedrooms'].apply(lambda x: predict_price(x))\n",
    "test_df['squared_error'] = (test_df['predicted_price'] - test_df['price'])**2\n",
    "mse = test_df['squared_error'].mean()\n",
    "print(mse)"
   ]
  },
  {
   "cell_type": "markdown",
   "id": "3b162a65",
   "metadata": {},
   "source": [
    "## Racine carrée de l'erreur quadratique moyenne\n",
    "\n",
    "+ Calculer la valeur RMSE du modèle entrainé en utilisant la colonne 'bedrooms'.\n",
    "+ Assigner le résultat à la variable rmse.\n",
    "+ Afficher le résultat"
   ]
  },
  {
   "cell_type": "code",
   "execution_count": 8,
   "id": "15ae9de9",
   "metadata": {},
   "outputs": [
    {
     "name": "stdout",
     "output_type": "stream",
     "text": [
      "79.25390829479643\n"
     ]
    }
   ],
   "source": [
    "def predict_price(new_listing):\n",
    "    temp_df = train_df.copy()\n",
    "    temp_df['distance'] = temp_df['bedrooms'].apply(lambda x: np.abs(x - new_listing))\n",
    "    temp_df = temp_df.sort_values('distance')\n",
    "    nearest_neighbors_prices = temp_df.iloc[0:5]['price']\n",
    "    predicted_price = nearest_neighbors_prices.mean()\n",
    "    return(predicted_price)\n",
    "\n",
    "test_df['predicted_price'] = test_df['bedrooms'].apply(lambda x: predict_price(x))\n",
    "test_df['squared_error'] = (test_df['predicted_price'] - test_df['price'])**(2)\n",
    "mse = test_df['squared_error'].mean()\n",
    "\n",
    "rmse = mse ** (1/2)\n",
    "print(rmse)"
   ]
  },
  {
   "cell_type": "markdown",
   "id": "b0228c99",
   "metadata": {},
   "source": [
    "## Comparer l'erreur moyenne absolue et la racine carrée de l'erreur quadratique moyenne\n",
    "\n",
    "+ Calculer MAE pour errors_one et l'assigner à la variable mae_one.\n",
    "+ Calculer RMSE pour errors_one et l'assigner à la variable rmse_one.\n",
    "+ Calculer MAE pour errors_two et l'assigner à mae_two.\n",
    "+ Calculer RMSE errors_two et l'assigner à rmse_two.\n"
   ]
  },
  {
   "cell_type": "code",
   "execution_count": 9,
   "id": "a85fc37e",
   "metadata": {},
   "outputs": [],
   "source": [
    "errors_one = pd.Series([5, 10, 5, 10, 5, 10, 5, 10, 5, 10, 5, 10, 5, 10, 5, 10, 5, 10])\n",
    "errors_two = pd.Series([5, 10, 5, 10, 5, 10, 5, 10, 5, 10, 5, 10, 5, 10, 5, 10, 5, 1000])\n",
    "\n",
    "mae_one = errors_one.sum()/len(errors_one)\n",
    "rmse_one = np.sqrt((errors_one**2).sum()/len(errors_one))\n",
    "\n",
    "mae_two = errors_two.sum()/len(errors_two)\n",
    "rmse_two = np.sqrt((errors_two**2).sum()/len(errors_two))"
   ]
  },
  {
   "cell_type": "code",
   "execution_count": 10,
   "id": "399ecefd",
   "metadata": {},
   "outputs": [
    {
     "name": "stdout",
     "output_type": "stream",
     "text": [
      "7.5\n",
      "7.905694150420948\n"
     ]
    }
   ],
   "source": [
    "print(mae_one)\n",
    "print(rmse_one)"
   ]
  },
  {
   "cell_type": "code",
   "execution_count": 11,
   "id": "8435d662",
   "metadata": {},
   "outputs": [
    {
     "name": "stdout",
     "output_type": "stream",
     "text": [
      "62.5\n",
      "235.82302686548658\n"
     ]
    }
   ],
   "source": [
    "print(mae_two)\n",
    "print(rmse_two)"
   ]
  },
  {
   "cell_type": "code",
   "execution_count": null,
   "id": "d7720bff",
   "metadata": {},
   "outputs": [],
   "source": []
  }
 ],
 "metadata": {
  "kernelspec": {
   "display_name": "Python 3 (ipykernel)",
   "language": "python",
   "name": "python3"
  },
  "language_info": {
   "codemirror_mode": {
    "name": "ipython",
    "version": 3
   },
   "file_extension": ".py",
   "mimetype": "text/x-python",
   "name": "python",
   "nbconvert_exporter": "python",
   "pygments_lexer": "ipython3",
   "version": "3.8.15"
  }
 },
 "nbformat": 4,
 "nbformat_minor": 5
}
